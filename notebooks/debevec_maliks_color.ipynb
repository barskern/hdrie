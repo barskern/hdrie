{
 "cells": [
  {
   "cell_type": "code",
   "execution_count": 1,
   "metadata": {},
   "outputs": [],
   "source": [
    "import numpy as np\n",
    "import matplotlib.pyplot as plt"
   ]
  },
  {
   "cell_type": "code",
   "execution_count": 2,
   "metadata": {},
   "outputs": [],
   "source": [
    "SIZE = 3\n",
    "img = np.random.randint(180, size=(SIZE, SIZE, 3)) + 50"
   ]
  },
  {
   "cell_type": "code",
   "execution_count": 3,
   "metadata": {},
   "outputs": [
    {
     "name": "stdout",
     "output_type": "stream",
     "text": [
      "\n"
     ]
    },
    {
     "data": {
      "image/png": "[encoded data removed]",
      "text/plain": [
       "<Figure size 432x288 with 1 Axes>"
      ]
     },
     "metadata": {},
     "output_type": "display_data"
    }
   ],
   "source": [
    "plt.imshow(img, vmin=0, vmax=255)\n",
    "plt.title(\"Originalt bilde\")\n",
    "plt.xticks([])\n",
    "plt.yticks([])\n",
    "print()"
   ]
  },
  {
   "cell_type": "code",
   "execution_count": 4,
   "metadata": {},
   "outputs": [
    {
     "data": {
      "image/png": "[encoded data removed]",
      "text/plain": [
       "<Figure size 720x720 with 4 Axes>"
      ]
     },
     "metadata": {},
     "output_type": "display_data"
    }
   ],
   "source": [
    "N = 4\n",
    "EXP_OFFSET = 15\n",
    "\n",
    "exps_offsets = np.arange(-N // 2, N // 2) * EXP_OFFSET\n",
    "exs = np.array([(img + offset).clip(0, 255) for offset in exps_offsets])\n",
    "\n",
    "fig = plt.figure(figsize=(10, 10))  # figure size in inches\n",
    "fig.suptitle(\"Ulike eksponeringer av orginalbildet (inkl. orginalbilde)\")\n",
    "\n",
    "for i, imge in enumerate(exs):\n",
    "    ax = fig.add_subplot(N // 2, (N + 1) // 2, i + 1, xticks=[], yticks=[])\n",
    "    ax.imshow(imge, vmin=0, vmax=255)\n",
    "    ax.text(0, SIZE - .2, '%d exp' % exps_offsets[i])"
   ]
  },
  {
   "cell_type": "code",
   "execution_count": 5,
   "metadata": {},
   "outputs": [
    {
     "ename": "AttributeError",
     "evalue": "module 'hdrie.rekonstruksjon' has no attribute 'debevec_maliks_color'",
     "output_type": "error",
     "traceback": [
      "\u001b[0;31m---------------------------------------------------------------------------\u001b[0m",
      "\u001b[0;31mAttributeError\u001b[0m                            Traceback (most recent call last)",
      "\u001b[0;32m<ipython-input-5-8b7e59361d75>\u001b[0m in \u001b[0;36m<module>\u001b[0;34m\u001b[0m\n\u001b[1;32m      7\u001b[0m \u001b[0;32mdef\u001b[0m \u001b[0mw\u001b[0m\u001b[0;34m(\u001b[0m\u001b[0mz\u001b[0m\u001b[0;34m)\u001b[0m\u001b[0;34m:\u001b[0m \u001b[0;32mreturn\u001b[0m \u001b[0;36m128\u001b[0m \u001b[0;34m-\u001b[0m \u001b[0mnp\u001b[0m\u001b[0;34m.\u001b[0m\u001b[0mabs\u001b[0m\u001b[0;34m(\u001b[0m\u001b[0;36m128\u001b[0m \u001b[0;34m-\u001b[0m \u001b[0mz\u001b[0m\u001b[0;34m)\u001b[0m\u001b[0;34m\u001b[0m\u001b[0;34m\u001b[0m\u001b[0m\n\u001b[1;32m      8\u001b[0m \u001b[0;34m\u001b[0m\u001b[0m\n\u001b[0;32m----> 9\u001b[0;31m \u001b[0mkurves\u001b[0m \u001b[0;34m=\u001b[0m \u001b[0mrekonstruksjon\u001b[0m\u001b[0;34m.\u001b[0m\u001b[0mdebevec_maliks_color\u001b[0m\u001b[0;34m(\u001b[0m\u001b[0mcolor_channels\u001b[0m\u001b[0;34m,\u001b[0m \u001b[0mdT\u001b[0m\u001b[0;34m,\u001b[0m \u001b[0;36m.1\u001b[0m\u001b[0;34m,\u001b[0m \u001b[0mw\u001b[0m\u001b[0;34m,\u001b[0m \u001b[0;36m256\u001b[0m\u001b[0;34m)\u001b[0m\u001b[0;34m\u001b[0m\u001b[0;34m\u001b[0m\u001b[0m\n\u001b[0m\u001b[1;32m     10\u001b[0m \u001b[0;34m\u001b[0m\u001b[0m\n\u001b[1;32m     11\u001b[0m \u001b[0;32mfor\u001b[0m \u001b[0mname\u001b[0m\u001b[0;34m,\u001b[0m \u001b[0;34m(\u001b[0m\u001b[0mp\u001b[0m\u001b[0;34m,\u001b[0m \u001b[0mlE\u001b[0m\u001b[0;34m)\u001b[0m \u001b[0;32min\u001b[0m \u001b[0mzip\u001b[0m\u001b[0;34m(\u001b[0m\u001b[0;34m[\u001b[0m\u001b[0;34m'r'\u001b[0m\u001b[0;34m,\u001b[0m \u001b[0;34m'g'\u001b[0m\u001b[0;34m,\u001b[0m \u001b[0;34m'b'\u001b[0m\u001b[0;34m]\u001b[0m\u001b[0;34m,\u001b[0m \u001b[0mkurves\u001b[0m\u001b[0;34m)\u001b[0m\u001b[0;34m:\u001b[0m\u001b[0;34m\u001b[0m\u001b[0;34m\u001b[0m\u001b[0m\n",
      "\u001b[0;31mAttributeError\u001b[0m: module 'hdrie.rekonstruksjon' has no attribute 'debevec_maliks_color'"
     ]
    }
   ],
   "source": [
    "from hdrie import rekonstruksjon\n",
    "\n",
    "color_channels = exs.reshape(exs.shape[0], exs.shape[1]**2, -1).transpose()\n",
    "\n",
    "dT = np.linspace(.01, 1, N)\n",
    "\n",
    "def w(z): return 128 - np.abs(128 - z)\n",
    "\n",
    "kurves = rekonstruksjon.debevec_maliks_color(color_channels, dT, .1, w, 256)\n",
    "\n",
    "for name, (p, lE) in zip(['r', 'g', 'b'], kurves):\n",
    "    \n",
    "    fig, axs = plt.subplots(1, 2, figsize=(10, 5), sharey=True, sharex=True)\n",
    "    fig.suptitle('Color %s' % name)\n",
    "                   \n",
    "    axs[0].set_title(\"plot of g assuming unit radiance\")\n",
    "    for pos, pix in enumerate(Z):\n",
    "        axs[0].plot(pix, p[pix] - lE[pos], 'o')\n",
    "\n",
    "    axs[1].set_title(\"plot of g with varying radiance\")\n",
    "    for pos, pix in enumerate(Z):\n",
    "        axs[1].plot(pix, p[pix], 'o')\n",
    "\n",
    "    axs[1].plot(p)"
   ]
  }
 ],
 "metadata": {
  "kernelspec": {
   "display_name": "Python 3",
   "language": "python",
   "name": "python3"
  },
  "language_info": {
   "codemirror_mode": {
    "name": "ipython",
    "version": 3
   },
   "file_extension": ".py",
   "mimetype": "text/x-python",
   "name": "python",
   "nbconvert_exporter": "python",
   "pygments_lexer": "ipython3",
   "version": "3.7.3"
  }
 },
 "nbformat": 4,
 "nbformat_minor": 2
}
